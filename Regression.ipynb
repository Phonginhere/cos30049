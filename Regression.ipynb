{
 "cells": [
  {
   "cell_type": "markdown",
   "metadata": {
    "cell_id": "13c9c45d098b4fa39105b0eae11e157b",
    "deepnote_cell_type": "text-cell-h1",
    "formattedRanges": []
   },
   "source": [
    "# 1. Library Import"
   ]
  },
  {
   "cell_type": "code",
   "execution_count": 1,
   "metadata": {
    "cell_id": "e5277d41f78e4464b9c950c1b0a12dd8",
    "deepnote_cell_type": "code",
    "execution_context_id": "57886e0d-b0d7-47fe-9d10-63312e34d888",
    "execution_millis": 1018,
    "execution_start": 1727598973063,
    "source_hash": "67d26f89"
   },
   "outputs": [],
   "source": [
    "import pandas as pd\n",
    "from pandas.plotting import scatter_matrix\n",
    "import matplotlib.pyplot as plt\n",
    "import numpy as np\n",
    "import seaborn as sns\n",
    "\n",
    "from sklearn.model_selection import train_test_split\n",
    "from sklearn.preprocessing import PolynomialFeatures, MinMaxScaler\n",
    "from sklearn.linear_model import LinearRegression\n",
    "from sklearn.metrics import mean_squared_error, r2_score #, root_mean_squared_error"
   ]
  },
  {
   "cell_type": "markdown",
   "metadata": {
    "cell_id": "e47f1151b49f493196e8b758a316a6f6",
    "deepnote_cell_type": "text-cell-h1",
    "formattedRanges": []
   },
   "source": [
    "# 2. Data Processing, Analysing, and Visualisation"
   ]
  },
  {
   "cell_type": "code",
   "execution_count": 2,
   "metadata": {
    "cell_id": "bc51e050a6544bebaa2dcc53f8348135",
    "deepnote_cell_type": "code",
    "execution_context_id": "57886e0d-b0d7-47fe-9d10-63312e34d888",
    "execution_millis": 1517,
    "execution_start": 1727598974133,
    "source_hash": "5250a94a"
   },
   "outputs": [],
   "source": [
    "sogaAQhap = pd.read_csv('../raw_data/soga_datasets/air_quality_household_air_pollution_from_solid_fuels.csv')\n",
    "sogaAQno2 = pd.read_csv('../raw_data/soga_datasets/air_quality_no2_nitrogen_dioxide_pollution.csv')\n",
    "sogaAQo3 = pd.read_csv('../raw_data/soga_datasets/air_quality_ozone_ambient_ozone_pollution.csv')\n",
    "sogaAQpm25 = pd.read_csv('../raw_data/soga_datasets/air_quality_pm2.5_ambient_particulate_matter_pollution.csv')\n",
    "sogaHITotalAirPollu = pd.read_csv('../raw_data/soga_datasets/health_impact_dalys_rate_air_pollution.csv')\n",
    "sogaHIhap = pd.read_csv('../raw_data/soga_datasets/health_impact_dalys_rate_household_air_pollution_from_solid_fuels.csv')\n",
    "sogaHIo3 = pd.read_csv('../raw_data/soga_datasets/health_impact_dalys_rate_ozone_ambient_ozone_pollution.csv')\n",
    "sogaHIno2 = pd.read_csv('../raw_data/soga_datasets/health_quality_dalys_rate_no2_nitrogen_dioxide_pollution.csv')\n",
    "sogaHIpm25 = pd.read_csv('../raw_data/soga_datasets/health_impact_dalys_rate_pm2.5_ambient_particulate_matter_pollution.csv')"
   ]
  },
  {
   "cell_type": "markdown",
   "metadata": {
    "cell_id": "cef42684fc4e4b919589840180a1f10d",
    "deepnote_cell_type": "text-cell-h2",
    "formattedRanges": []
   },
   "source": [
    "## 2.1. Format tabular structure"
   ]
  },
  {
   "cell_type": "code",
   "execution_count": 3,
   "metadata": {
    "cell_id": "01f510b4b24f42eabb1206655e70398e",
    "deepnote_cell_type": "code",
    "execution_context_id": "57886e0d-b0d7-47fe-9d10-63312e34d888",
    "execution_millis": 0,
    "execution_start": 1727598975705,
    "source_hash": "22087d21"
   },
   "outputs": [],
   "source": [
    "def value_format(dataset):\n",
    "    # Updated regex to remove both leading `=\"` and trailing `\"`\n",
    "    dataset = dataset.replace(to_replace=r'=\"|\"$', value=\"\", regex=True)\n",
    "    return dataset\n",
    "\n",
    "def columns_format(dataset):\n",
    "    # Clean column names to remove `=\"` and `\"`\n",
    "    dataset.columns = dataset.columns.str.replace(r'=\"', '', regex=True).str.replace(r'\"', '').str.strip()\n",
    "    return dataset  "
   ]
  },
  {
   "cell_type": "code",
   "execution_count": 4,
   "metadata": {
    "cell_id": "7013c422c2404664b75dfc4e3d90e8ac",
    "deepnote_cell_type": "code",
    "execution_context_id": "57886e0d-b0d7-47fe-9d10-63312e34d888",
    "execution_millis": 790,
    "execution_start": 1727598975753,
    "source_hash": "571ceb3"
   },
   "outputs": [
    {
     "data": {
      "text/html": [
       "<div>\n",
       "<style scoped>\n",
       "    .dataframe tbody tr th:only-of-type {\n",
       "        vertical-align: middle;\n",
       "    }\n",
       "\n",
       "    .dataframe tbody tr th {\n",
       "        vertical-align: top;\n",
       "    }\n",
       "\n",
       "    .dataframe thead th {\n",
       "        text-align: right;\n",
       "    }\n",
       "</style>\n",
       "<table border=\"1\" class=\"dataframe\">\n",
       "  <thead>\n",
       "    <tr style=\"text-align: right;\">\n",
       "      <th></th>\n",
       "      <th>Exposure Id</th>\n",
       "      <th>Type</th>\n",
       "      <th>Country</th>\n",
       "      <th>ISO3</th>\n",
       "      <th>Region</th>\n",
       "      <th>Name</th>\n",
       "      <th>Exposure Lower</th>\n",
       "      <th>Exposure Mean</th>\n",
       "      <th>Exposure Upper</th>\n",
       "      <th>Year</th>\n",
       "      <th>Pollutant</th>\n",
       "      <th>Pollutant Name</th>\n",
       "      <th>Region Name</th>\n",
       "      <th>Units</th>\n",
       "    </tr>\n",
       "  </thead>\n",
       "  <tbody>\n",
       "    <tr>\n",
       "      <th>0</th>\n",
       "      <td>123846</td>\n",
       "      <td>country</td>\n",
       "      <td>Afghanistan</td>\n",
       "      <td>AFG</td>\n",
       "      <td>country</td>\n",
       "      <td>Afghanistan</td>\n",
       "      <td>0.95</td>\n",
       "      <td>12.3</td>\n",
       "      <td>12.3</td>\n",
       "      <td>1990</td>\n",
       "      <td>no2</td>\n",
       "      <td>NO&lt;sub&gt;2&lt;/sub&gt;</td>\n",
       "      <td>Country</td>\n",
       "      <td>µg/m3</td>\n",
       "    </tr>\n",
       "    <tr>\n",
       "      <th>1</th>\n",
       "      <td>123854</td>\n",
       "      <td>country</td>\n",
       "      <td>Afghanistan</td>\n",
       "      <td>AFG</td>\n",
       "      <td>country</td>\n",
       "      <td>Afghanistan</td>\n",
       "      <td>0.806</td>\n",
       "      <td>12.1</td>\n",
       "      <td>12.2</td>\n",
       "      <td>1991</td>\n",
       "      <td>no2</td>\n",
       "      <td>NO&lt;sub&gt;2&lt;/sub&gt;</td>\n",
       "      <td>Country</td>\n",
       "      <td>µg/m3</td>\n",
       "    </tr>\n",
       "    <tr>\n",
       "      <th>2</th>\n",
       "      <td>123855</td>\n",
       "      <td>country</td>\n",
       "      <td>Afghanistan</td>\n",
       "      <td>AFG</td>\n",
       "      <td>country</td>\n",
       "      <td>Afghanistan</td>\n",
       "      <td>0.636</td>\n",
       "      <td>11.7</td>\n",
       "      <td>12</td>\n",
       "      <td>1992</td>\n",
       "      <td>no2</td>\n",
       "      <td>NO&lt;sub&gt;2&lt;/sub&gt;</td>\n",
       "      <td>Country</td>\n",
       "      <td>µg/m3</td>\n",
       "    </tr>\n",
       "    <tr>\n",
       "      <th>3</th>\n",
       "      <td>123856</td>\n",
       "      <td>country</td>\n",
       "      <td>Afghanistan</td>\n",
       "      <td>AFG</td>\n",
       "      <td>country</td>\n",
       "      <td>Afghanistan</td>\n",
       "      <td>0.443</td>\n",
       "      <td>11.4</td>\n",
       "      <td>11.8</td>\n",
       "      <td>1993</td>\n",
       "      <td>no2</td>\n",
       "      <td>NO&lt;sub&gt;2&lt;/sub&gt;</td>\n",
       "      <td>Country</td>\n",
       "      <td>µg/m3</td>\n",
       "    </tr>\n",
       "    <tr>\n",
       "      <th>4</th>\n",
       "      <td>123857</td>\n",
       "      <td>country</td>\n",
       "      <td>Afghanistan</td>\n",
       "      <td>AFG</td>\n",
       "      <td>country</td>\n",
       "      <td>Afghanistan</td>\n",
       "      <td>0.23</td>\n",
       "      <td>11</td>\n",
       "      <td>11.6</td>\n",
       "      <td>1994</td>\n",
       "      <td>no2</td>\n",
       "      <td>NO&lt;sub&gt;2&lt;/sub&gt;</td>\n",
       "      <td>Country</td>\n",
       "      <td>µg/m3</td>\n",
       "    </tr>\n",
       "  </tbody>\n",
       "</table>\n",
       "</div>"
      ],
      "text/plain": [
       "   Exposure Id     Type      Country ISO3   Region         Name  \\\n",
       "0       123846  country  Afghanistan  AFG  country  Afghanistan   \n",
       "1       123854  country  Afghanistan  AFG  country  Afghanistan   \n",
       "2       123855  country  Afghanistan  AFG  country  Afghanistan   \n",
       "3       123856  country  Afghanistan  AFG  country  Afghanistan   \n",
       "4       123857  country  Afghanistan  AFG  country  Afghanistan   \n",
       "\n",
       "  Exposure Lower Exposure Mean Exposure Upper  Year Pollutant  Pollutant Name  \\\n",
       "0           0.95          12.3           12.3  1990       no2  NO<sub>2</sub>   \n",
       "1          0.806          12.1           12.2  1991       no2  NO<sub>2</sub>   \n",
       "2          0.636          11.7             12  1992       no2  NO<sub>2</sub>   \n",
       "3          0.443          11.4           11.8  1993       no2  NO<sub>2</sub>   \n",
       "4           0.23            11           11.6  1994       no2  NO<sub>2</sub>   \n",
       "\n",
       "  Region Name  Units  \n",
       "0     Country  µg/m3  \n",
       "1     Country  µg/m3  \n",
       "2     Country  µg/m3  \n",
       "3     Country  µg/m3  \n",
       "4     Country  µg/m3  "
      ]
     },
     "execution_count": 4,
     "metadata": {},
     "output_type": "execute_result"
    }
   ],
   "source": [
    "sogaAQ = pd.concat([sogaAQno2, sogaAQo3, sogaAQhap, sogaAQpm25])\n",
    "sogaHI = pd.concat([sogaHIno2, sogaHIo3, sogaHIhap, sogaHIpm25, sogaHITotalAirPollu])\n",
    "\n",
    "columns_format(sogaAQ)\n",
    "columns_format(sogaHI)\n",
    "sogaAQ = value_format(sogaAQ)\n",
    "sogaHI = value_format(sogaHI)\n",
    "\n",
    "sogaAQ.head()"
   ]
  },
  {
   "cell_type": "code",
   "execution_count": 5,
   "metadata": {
    "cell_id": "3f00b8b438be40759f38702ba1d00bdc",
    "deepnote_cell_type": "code",
    "execution_context_id": "57886e0d-b0d7-47fe-9d10-63312e34d888",
    "execution_millis": 327,
    "execution_start": 1727598976589,
    "source_hash": "44840637"
   },
   "outputs": [
    {
     "data": {
      "text/html": [
       "<div>\n",
       "<style scoped>\n",
       "    .dataframe tbody tr th:only-of-type {\n",
       "        vertical-align: middle;\n",
       "    }\n",
       "\n",
       "    .dataframe tbody tr th {\n",
       "        vertical-align: top;\n",
       "    }\n",
       "\n",
       "    .dataframe thead th {\n",
       "        text-align: right;\n",
       "    }\n",
       "</style>\n",
       "<table border=\"1\" class=\"dataframe\">\n",
       "  <thead>\n",
       "    <tr style=\"text-align: right;\">\n",
       "      <th></th>\n",
       "      <th>Country</th>\n",
       "      <th>Year</th>\n",
       "      <th>Pollutant</th>\n",
       "      <th>Exposure Mean</th>\n",
       "      <th>Units</th>\n",
       "      <th>Burden Mean</th>\n",
       "      <th>Measure</th>\n",
       "      <th>Metric</th>\n",
       "      <th>Cause Name</th>\n",
       "    </tr>\n",
       "  </thead>\n",
       "  <tbody>\n",
       "    <tr>\n",
       "      <th>0</th>\n",
       "      <td>Afghanistan</td>\n",
       "      <td>1990</td>\n",
       "      <td>no2</td>\n",
       "      <td>12.3</td>\n",
       "      <td>µg/m3</td>\n",
       "      <td>21.5</td>\n",
       "      <td>daly</td>\n",
       "      <td>rate</td>\n",
       "      <td>Asthma</td>\n",
       "    </tr>\n",
       "    <tr>\n",
       "      <th>1</th>\n",
       "      <td>Afghanistan</td>\n",
       "      <td>1991</td>\n",
       "      <td>no2</td>\n",
       "      <td>12.1</td>\n",
       "      <td>µg/m3</td>\n",
       "      <td>NaN</td>\n",
       "      <td>NaN</td>\n",
       "      <td>NaN</td>\n",
       "      <td>NaN</td>\n",
       "    </tr>\n",
       "    <tr>\n",
       "      <th>2</th>\n",
       "      <td>Afghanistan</td>\n",
       "      <td>1992</td>\n",
       "      <td>no2</td>\n",
       "      <td>11.7</td>\n",
       "      <td>µg/m3</td>\n",
       "      <td>NaN</td>\n",
       "      <td>NaN</td>\n",
       "      <td>NaN</td>\n",
       "      <td>NaN</td>\n",
       "    </tr>\n",
       "    <tr>\n",
       "      <th>3</th>\n",
       "      <td>Afghanistan</td>\n",
       "      <td>1993</td>\n",
       "      <td>no2</td>\n",
       "      <td>11.4</td>\n",
       "      <td>µg/m3</td>\n",
       "      <td>NaN</td>\n",
       "      <td>NaN</td>\n",
       "      <td>NaN</td>\n",
       "      <td>NaN</td>\n",
       "    </tr>\n",
       "    <tr>\n",
       "      <th>4</th>\n",
       "      <td>Afghanistan</td>\n",
       "      <td>1994</td>\n",
       "      <td>no2</td>\n",
       "      <td>11.0</td>\n",
       "      <td>µg/m3</td>\n",
       "      <td>NaN</td>\n",
       "      <td>NaN</td>\n",
       "      <td>NaN</td>\n",
       "      <td>NaN</td>\n",
       "    </tr>\n",
       "  </tbody>\n",
       "</table>\n",
       "</div>"
      ],
      "text/plain": [
       "       Country  Year Pollutant  Exposure Mean  Units  Burden Mean Measure  \\\n",
       "0  Afghanistan  1990       no2           12.3  µg/m3         21.5    daly   \n",
       "1  Afghanistan  1991       no2           12.1  µg/m3          NaN     NaN   \n",
       "2  Afghanistan  1992       no2           11.7  µg/m3          NaN     NaN   \n",
       "3  Afghanistan  1993       no2           11.4  µg/m3          NaN     NaN   \n",
       "4  Afghanistan  1994       no2           11.0  µg/m3          NaN     NaN   \n",
       "\n",
       "  Metric Cause Name  \n",
       "0   rate     Asthma  \n",
       "1    NaN        NaN  \n",
       "2    NaN        NaN  \n",
       "3    NaN        NaN  \n",
       "4    NaN        NaN  "
      ]
     },
     "execution_count": 5,
     "metadata": {},
     "output_type": "execute_result"
    }
   ],
   "source": [
    "sogaHI1 = pd.concat([sogaHIno2, sogaHIo3, sogaHIhap, sogaHIpm25])\n",
    "columns_format(sogaHI1)\n",
    "sogaHI1 = value_format(sogaHI1)\n",
    "\n",
    "AQH = pd.merge(\n",
    "    sogaAQ[['Country','Year','Pollutant','Exposure Mean','Units']],\n",
    "    sogaHI1[['Country','Year','Pollutant','Burden Mean','Measure','Metric','Cause Name']],\n",
    "    how='left',\n",
    "    on=['Country','Year','Pollutant']\n",
    ")\n",
    "\n",
    "AQH = AQH.astype({'Exposure Mean': 'float64', 'Burden Mean': 'float64'})\n",
    "\n",
    "AQH.head()\n",
    "\n"
   ]
  },
  {
   "cell_type": "markdown",
   "metadata": {
    "cell_id": "489a1ece8e564f3c853784d30b4b95a9",
    "deepnote_cell_type": "text-cell-h2",
    "formattedRanges": []
   },
   "source": [
    "## 2.2 Data Visualisation"
   ]
  },
  {
   "cell_type": "code",
   "execution_count": 6,
   "metadata": {
    "cell_id": "6a43af94dd54466293d78fc1923be097",
    "deepnote_cell_type": "code",
    "execution_context_id": "57886e0d-b0d7-47fe-9d10-63312e34d888",
    "execution_millis": 296,
    "execution_start": 1727598976961,
    "source_hash": "e27cd36e"
   },
   "outputs": [
    {
     "data": {
      "image/png": "[encoded data removed]",
      "text/plain": [
       "<Figure size 400x1000 with 1 Axes>"
      ]
     },
     "metadata": {},
     "output_type": "display_data"
    }
   ],
   "source": [
    "# Plot the updated scatter plot\n",
    "plt.figure(figsize=(4, 10))\n",
    "plt.scatter(AQH['Exposure Mean'], AQH['Burden Mean'], label='PM25 vs DALYs Rate', color='blue')\n",
    "\n",
    "# Title and axis labels\n",
    "plt.title(\"Air Quality to the Rate of Life Lost (DALYs)\", fontsize=14)\n",
    "plt.xlabel(\"PM25 (Exposure Mean)\", fontsize=12)\n",
    "plt.ylabel(\"DALYs Rate (Burden Mean)\", fontsize=12)\n",
    "\n",
    "# Adding a legend for the plot\n",
    "plt.legend(loc='upper right')\n",
    "\n",
    "# Display the plot\n",
    "plt.show()"
   ]
  },
  {
   "cell_type": "markdown",
   "metadata": {
    "cell_id": "06d0aaa096454695919f0091f8527767",
    "deepnote_cell_type": "text-cell-h2",
    "formattedRanges": []
   },
   "source": [
    "## 2.3. Pattern Reconition"
   ]
  },
  {
   "cell_type": "code",
   "execution_count": 7,
   "metadata": {
    "cell_id": "9895f2ff876242a6b1bb72428b6729d6",
    "deepnote_cell_type": "code",
    "execution_context_id": "57886e0d-b0d7-47fe-9d10-63312e34d888",
    "execution_millis": 0,
    "execution_start": 1727617854189,
    "source_hash": "99b2499b"
   },
   "outputs": [
    {
     "name": "stdout",
     "output_type": "stream",
     "text": [
      "['Afghanistan' 'Albania' 'Algeria' 'American Samoa' 'Andorra' 'Angola'\n",
      " 'Antigua and Barbuda' 'Argentina' 'Armenia' 'Australia' 'Austria'\n",
      " 'Azerbaijan' 'Bahamas' 'Bahrain' 'Bangladesh' 'Barbados' 'Belarus'\n",
      " 'Belgium' 'Belize' 'Benin' 'Bermuda' 'Bhutan'\n",
      " 'Bolivia (Plurinational State of)' 'Bosnia and Herzegovina' 'Botswana'\n",
      " 'Brazil' 'Brunei Darussalam' 'Bulgaria' 'Burkina Faso' 'Burundi'\n",
      " 'Cabo Verde' 'Cambodia' 'Cameroon' 'Canada' 'Central African Republic'\n",
      " 'Chad' 'Chile' 'China' 'Colombia' 'Comoros' 'Congo' 'Cook Islands'\n",
      " 'Costa Rica' 'Croatia' 'Cuba' 'Cyprus' 'Czechia' \"Côte d'Ivoire\"\n",
      " \"Democratic People's Republic of Korea\"\n",
      " 'Democratic Republic of the Congo' 'Denmark' 'Djibouti' 'Dominica'\n",
      " 'Dominican Republic' 'Ecuador' 'Egypt' 'El Salvador' 'Equatorial Guinea'\n",
      " 'Eritrea' 'Estonia' 'Eswatini' 'Ethiopia' 'Fiji' 'Finland' 'France'\n",
      " 'Gabon' 'Gambia' 'Georgia' 'Germany' 'Ghana' 'Greece' 'Greenland'\n",
      " 'Grenada' 'Guam' 'Guatemala' 'Guinea' 'Guinea-Bissau' 'Guyana' 'Haiti'\n",
      " 'Honduras' 'Hungary' 'Iceland' 'India' 'Indonesia'\n",
      " 'Iran (Islamic Republic of)' 'Iraq' 'Ireland' 'Israel' 'Italy' 'Jamaica'\n",
      " 'Japan' 'Jordan' 'Kazakhstan' 'Kenya' 'Kiribati' 'Kuwait' 'Kyrgyzstan'\n",
      " \"Lao People's Democratic Republic\" 'Latvia' 'Lebanon' 'Lesotho' 'Liberia'\n",
      " 'Libya' 'Lithuania' 'Luxembourg' 'Madagascar' 'Malawi' 'Malaysia'\n",
      " 'Maldives' 'Mali' 'Malta' 'Marshall Islands' 'Mauritania' 'Mauritius'\n",
      " 'Mexico' 'Micronesia (Federated States of)' 'Monaco' 'Mongolia'\n",
      " 'Montenegro' 'Morocco' 'Mozambique' 'Myanmar' 'Namibia' 'Nauru' 'Nepal'\n",
      " 'Netherlands' 'New Zealand' 'Nicaragua' 'Niger' 'Nigeria' 'Niue'\n",
      " 'North Macedonia' 'Northern Mariana Islands' 'Norway' 'Oman' 'Pakistan'\n",
      " 'Palau' 'Palestine' 'Panama' 'Papua New Guinea' 'Paraguay' 'Peru'\n",
      " 'Philippines' 'Poland' 'Portugal' 'Puerto Rico' 'Qatar'\n",
      " 'Republic of Korea' 'Republic of Moldova' 'Romania' 'Russian Federation'\n",
      " 'Rwanda' 'Saint Kitts and Nevis' 'Saint Lucia'\n",
      " 'Saint Vincent and the Grenadines' 'Samoa' 'San Marino'\n",
      " 'Sao Tome and Principe' 'Saudi Arabia' 'Senegal' 'Serbia' 'Seychelles'\n",
      " 'Sierra Leone' 'Singapore' 'Slovakia' 'Slovenia' 'Solomon Islands'\n",
      " 'Somalia' 'South Africa' 'South Sudan' 'Spain' 'Sri Lanka' 'Sudan'\n",
      " 'Suriname' 'Sweden' 'Switzerland' 'Syrian Arab Republic'\n",
      " 'Taiwan (Province of China)' 'Tajikistan' 'Thailand' 'Timor-Leste' 'Togo'\n",
      " 'Tokelau' 'Tonga' 'Trinidad and Tobago' 'Tunisia' 'Turkey' 'Turkmenistan'\n",
      " 'Tuvalu' 'Uganda' 'Ukraine' 'United Arab Emirates' 'United Kingdom'\n",
      " 'United Republic of Tanzania' 'United States Virgin Islands'\n",
      " 'United States of America' 'Uruguay' 'Uzbekistan' 'Vanuatu'\n",
      " 'Venezuela (Bolivarian Republic of)' 'Viet Nam' 'Yemen' 'Zambia'\n",
      " 'Zimbabwe']\n"
     ]
    }
   ],
   "source": [
    "# Get the unique country names\n",
    "country_names = AQH['Country'].unique()\n",
    "country_names_list = country_names.tolist()\n",
    "# Display the list of country names \n",
    "print(country_names)"
   ]
  },
  {
   "cell_type": "code",
   "execution_count": 8,
   "metadata": {
    "cell_id": "44de7308c6e84eefa271d96a78dc0540",
    "deepnote_cell_type": "code",
    "execution_context_id": "57886e0d-b0d7-47fe-9d10-63312e34d888",
    "execution_millis": 0,
    "execution_start": 1727598977306,
    "source_hash": "6645a754"
   },
   "outputs": [
    {
     "data": {
      "text/html": [
       "<div>\n",
       "<style scoped>\n",
       "    .dataframe tbody tr th:only-of-type {\n",
       "        vertical-align: middle;\n",
       "    }\n",
       "\n",
       "    .dataframe tbody tr th {\n",
       "        vertical-align: top;\n",
       "    }\n",
       "\n",
       "    .dataframe thead th {\n",
       "        text-align: right;\n",
       "    }\n",
       "</style>\n",
       "<table border=\"1\" class=\"dataframe\">\n",
       "  <thead>\n",
       "    <tr style=\"text-align: right;\">\n",
       "      <th></th>\n",
       "      <th>Country</th>\n",
       "      <th>Year</th>\n",
       "      <th>Pollutant</th>\n",
       "      <th>Exposure Mean</th>\n",
       "      <th>Units</th>\n",
       "      <th>Burden Mean</th>\n",
       "      <th>Measure</th>\n",
       "      <th>Metric</th>\n",
       "      <th>Cause Name</th>\n",
       "    </tr>\n",
       "  </thead>\n",
       "  <tbody>\n",
       "    <tr>\n",
       "      <th>18972</th>\n",
       "      <td>Afghanistan</td>\n",
       "      <td>1990</td>\n",
       "      <td>pm25</td>\n",
       "      <td>64.2</td>\n",
       "      <td>µg/m3</td>\n",
       "      <td>2270.0</td>\n",
       "      <td>daly</td>\n",
       "      <td>rate</td>\n",
       "      <td>All causes</td>\n",
       "    </tr>\n",
       "    <tr>\n",
       "      <th>18973</th>\n",
       "      <td>Afghanistan</td>\n",
       "      <td>1991</td>\n",
       "      <td>pm25</td>\n",
       "      <td>64.2</td>\n",
       "      <td>µg/m3</td>\n",
       "      <td>2140.0</td>\n",
       "      <td>daly</td>\n",
       "      <td>rate</td>\n",
       "      <td>All causes</td>\n",
       "    </tr>\n",
       "    <tr>\n",
       "      <th>18974</th>\n",
       "      <td>Afghanistan</td>\n",
       "      <td>1992</td>\n",
       "      <td>pm25</td>\n",
       "      <td>64.2</td>\n",
       "      <td>µg/m3</td>\n",
       "      <td>1990.0</td>\n",
       "      <td>daly</td>\n",
       "      <td>rate</td>\n",
       "      <td>All causes</td>\n",
       "    </tr>\n",
       "    <tr>\n",
       "      <th>18975</th>\n",
       "      <td>Afghanistan</td>\n",
       "      <td>1993</td>\n",
       "      <td>pm25</td>\n",
       "      <td>64.2</td>\n",
       "      <td>µg/m3</td>\n",
       "      <td>1860.0</td>\n",
       "      <td>daly</td>\n",
       "      <td>rate</td>\n",
       "      <td>All causes</td>\n",
       "    </tr>\n",
       "    <tr>\n",
       "      <th>18976</th>\n",
       "      <td>Afghanistan</td>\n",
       "      <td>1994</td>\n",
       "      <td>pm25</td>\n",
       "      <td>64.3</td>\n",
       "      <td>µg/m3</td>\n",
       "      <td>1760.0</td>\n",
       "      <td>daly</td>\n",
       "      <td>rate</td>\n",
       "      <td>All causes</td>\n",
       "    </tr>\n",
       "    <tr>\n",
       "      <th>18977</th>\n",
       "      <td>Afghanistan</td>\n",
       "      <td>1995</td>\n",
       "      <td>pm25</td>\n",
       "      <td>64.4</td>\n",
       "      <td>µg/m3</td>\n",
       "      <td>1670.0</td>\n",
       "      <td>daly</td>\n",
       "      <td>rate</td>\n",
       "      <td>All causes</td>\n",
       "    </tr>\n",
       "    <tr>\n",
       "      <th>18978</th>\n",
       "      <td>Afghanistan</td>\n",
       "      <td>1996</td>\n",
       "      <td>pm25</td>\n",
       "      <td>64.5</td>\n",
       "      <td>µg/m3</td>\n",
       "      <td>1610.0</td>\n",
       "      <td>daly</td>\n",
       "      <td>rate</td>\n",
       "      <td>All causes</td>\n",
       "    </tr>\n",
       "    <tr>\n",
       "      <th>18979</th>\n",
       "      <td>Afghanistan</td>\n",
       "      <td>1997</td>\n",
       "      <td>pm25</td>\n",
       "      <td>64.6</td>\n",
       "      <td>µg/m3</td>\n",
       "      <td>1530.0</td>\n",
       "      <td>daly</td>\n",
       "      <td>rate</td>\n",
       "      <td>All causes</td>\n",
       "    </tr>\n",
       "    <tr>\n",
       "      <th>18980</th>\n",
       "      <td>Afghanistan</td>\n",
       "      <td>1998</td>\n",
       "      <td>pm25</td>\n",
       "      <td>64.8</td>\n",
       "      <td>µg/m3</td>\n",
       "      <td>1460.0</td>\n",
       "      <td>daly</td>\n",
       "      <td>rate</td>\n",
       "      <td>All causes</td>\n",
       "    </tr>\n",
       "    <tr>\n",
       "      <th>18981</th>\n",
       "      <td>Afghanistan</td>\n",
       "      <td>1999</td>\n",
       "      <td>pm25</td>\n",
       "      <td>64.9</td>\n",
       "      <td>µg/m3</td>\n",
       "      <td>1400.0</td>\n",
       "      <td>daly</td>\n",
       "      <td>rate</td>\n",
       "      <td>All causes</td>\n",
       "    </tr>\n",
       "    <tr>\n",
       "      <th>18982</th>\n",
       "      <td>Afghanistan</td>\n",
       "      <td>2000</td>\n",
       "      <td>pm25</td>\n",
       "      <td>64.8</td>\n",
       "      <td>µg/m3</td>\n",
       "      <td>1350.0</td>\n",
       "      <td>daly</td>\n",
       "      <td>rate</td>\n",
       "      <td>All causes</td>\n",
       "    </tr>\n",
       "    <tr>\n",
       "      <th>18983</th>\n",
       "      <td>Afghanistan</td>\n",
       "      <td>2001</td>\n",
       "      <td>pm25</td>\n",
       "      <td>64.6</td>\n",
       "      <td>µg/m3</td>\n",
       "      <td>1320.0</td>\n",
       "      <td>daly</td>\n",
       "      <td>rate</td>\n",
       "      <td>All causes</td>\n",
       "    </tr>\n",
       "    <tr>\n",
       "      <th>18984</th>\n",
       "      <td>Afghanistan</td>\n",
       "      <td>2002</td>\n",
       "      <td>pm25</td>\n",
       "      <td>64.4</td>\n",
       "      <td>µg/m3</td>\n",
       "      <td>1230.0</td>\n",
       "      <td>daly</td>\n",
       "      <td>rate</td>\n",
       "      <td>All causes</td>\n",
       "    </tr>\n",
       "    <tr>\n",
       "      <th>18985</th>\n",
       "      <td>Afghanistan</td>\n",
       "      <td>2003</td>\n",
       "      <td>pm25</td>\n",
       "      <td>64.2</td>\n",
       "      <td>µg/m3</td>\n",
       "      <td>1190.0</td>\n",
       "      <td>daly</td>\n",
       "      <td>rate</td>\n",
       "      <td>All causes</td>\n",
       "    </tr>\n",
       "    <tr>\n",
       "      <th>18986</th>\n",
       "      <td>Afghanistan</td>\n",
       "      <td>2004</td>\n",
       "      <td>pm25</td>\n",
       "      <td>63.8</td>\n",
       "      <td>µg/m3</td>\n",
       "      <td>1140.0</td>\n",
       "      <td>daly</td>\n",
       "      <td>rate</td>\n",
       "      <td>All causes</td>\n",
       "    </tr>\n",
       "    <tr>\n",
       "      <th>18987</th>\n",
       "      <td>Afghanistan</td>\n",
       "      <td>2005</td>\n",
       "      <td>pm25</td>\n",
       "      <td>63.3</td>\n",
       "      <td>µg/m3</td>\n",
       "      <td>1070.0</td>\n",
       "      <td>daly</td>\n",
       "      <td>rate</td>\n",
       "      <td>All causes</td>\n",
       "    </tr>\n",
       "    <tr>\n",
       "      <th>18988</th>\n",
       "      <td>Afghanistan</td>\n",
       "      <td>2006</td>\n",
       "      <td>pm25</td>\n",
       "      <td>61.5</td>\n",
       "      <td>µg/m3</td>\n",
       "      <td>988.0</td>\n",
       "      <td>daly</td>\n",
       "      <td>rate</td>\n",
       "      <td>All causes</td>\n",
       "    </tr>\n",
       "    <tr>\n",
       "      <th>18989</th>\n",
       "      <td>Afghanistan</td>\n",
       "      <td>2007</td>\n",
       "      <td>pm25</td>\n",
       "      <td>58.1</td>\n",
       "      <td>µg/m3</td>\n",
       "      <td>901.0</td>\n",
       "      <td>daly</td>\n",
       "      <td>rate</td>\n",
       "      <td>All causes</td>\n",
       "    </tr>\n",
       "    <tr>\n",
       "      <th>18990</th>\n",
       "      <td>Afghanistan</td>\n",
       "      <td>2008</td>\n",
       "      <td>pm25</td>\n",
       "      <td>54.2</td>\n",
       "      <td>µg/m3</td>\n",
       "      <td>819.0</td>\n",
       "      <td>daly</td>\n",
       "      <td>rate</td>\n",
       "      <td>All causes</td>\n",
       "    </tr>\n",
       "    <tr>\n",
       "      <th>18991</th>\n",
       "      <td>Afghanistan</td>\n",
       "      <td>2009</td>\n",
       "      <td>pm25</td>\n",
       "      <td>51.0</td>\n",
       "      <td>µg/m3</td>\n",
       "      <td>745.0</td>\n",
       "      <td>daly</td>\n",
       "      <td>rate</td>\n",
       "      <td>All causes</td>\n",
       "    </tr>\n",
       "    <tr>\n",
       "      <th>18992</th>\n",
       "      <td>Afghanistan</td>\n",
       "      <td>2010</td>\n",
       "      <td>pm25</td>\n",
       "      <td>49.7</td>\n",
       "      <td>µg/m3</td>\n",
       "      <td>696.0</td>\n",
       "      <td>daly</td>\n",
       "      <td>rate</td>\n",
       "      <td>All causes</td>\n",
       "    </tr>\n",
       "    <tr>\n",
       "      <th>18993</th>\n",
       "      <td>Afghanistan</td>\n",
       "      <td>2011</td>\n",
       "      <td>pm25</td>\n",
       "      <td>61.8</td>\n",
       "      <td>µg/m3</td>\n",
       "      <td>697.0</td>\n",
       "      <td>daly</td>\n",
       "      <td>rate</td>\n",
       "      <td>All causes</td>\n",
       "    </tr>\n",
       "    <tr>\n",
       "      <th>18994</th>\n",
       "      <td>Afghanistan</td>\n",
       "      <td>2012</td>\n",
       "      <td>pm25</td>\n",
       "      <td>70.9</td>\n",
       "      <td>µg/m3</td>\n",
       "      <td>750.0</td>\n",
       "      <td>daly</td>\n",
       "      <td>rate</td>\n",
       "      <td>All causes</td>\n",
       "    </tr>\n",
       "    <tr>\n",
       "      <th>18995</th>\n",
       "      <td>Afghanistan</td>\n",
       "      <td>2013</td>\n",
       "      <td>pm25</td>\n",
       "      <td>73.1</td>\n",
       "      <td>µg/m3</td>\n",
       "      <td>830.0</td>\n",
       "      <td>daly</td>\n",
       "      <td>rate</td>\n",
       "      <td>All causes</td>\n",
       "    </tr>\n",
       "    <tr>\n",
       "      <th>18996</th>\n",
       "      <td>Afghanistan</td>\n",
       "      <td>2014</td>\n",
       "      <td>pm25</td>\n",
       "      <td>77.1</td>\n",
       "      <td>µg/m3</td>\n",
       "      <td>886.0</td>\n",
       "      <td>daly</td>\n",
       "      <td>rate</td>\n",
       "      <td>All causes</td>\n",
       "    </tr>\n",
       "    <tr>\n",
       "      <th>18997</th>\n",
       "      <td>Afghanistan</td>\n",
       "      <td>2015</td>\n",
       "      <td>pm25</td>\n",
       "      <td>73.5</td>\n",
       "      <td>µg/m3</td>\n",
       "      <td>891.0</td>\n",
       "      <td>daly</td>\n",
       "      <td>rate</td>\n",
       "      <td>All causes</td>\n",
       "    </tr>\n",
       "    <tr>\n",
       "      <th>18998</th>\n",
       "      <td>Afghanistan</td>\n",
       "      <td>2016</td>\n",
       "      <td>pm25</td>\n",
       "      <td>72.8</td>\n",
       "      <td>µg/m3</td>\n",
       "      <td>863.0</td>\n",
       "      <td>daly</td>\n",
       "      <td>rate</td>\n",
       "      <td>All causes</td>\n",
       "    </tr>\n",
       "    <tr>\n",
       "      <th>18999</th>\n",
       "      <td>Afghanistan</td>\n",
       "      <td>2017</td>\n",
       "      <td>pm25</td>\n",
       "      <td>65.9</td>\n",
       "      <td>µg/m3</td>\n",
       "      <td>827.0</td>\n",
       "      <td>daly</td>\n",
       "      <td>rate</td>\n",
       "      <td>All causes</td>\n",
       "    </tr>\n",
       "    <tr>\n",
       "      <th>19000</th>\n",
       "      <td>Afghanistan</td>\n",
       "      <td>2018</td>\n",
       "      <td>pm25</td>\n",
       "      <td>67.2</td>\n",
       "      <td>µg/m3</td>\n",
       "      <td>780.0</td>\n",
       "      <td>daly</td>\n",
       "      <td>rate</td>\n",
       "      <td>All causes</td>\n",
       "    </tr>\n",
       "    <tr>\n",
       "      <th>19001</th>\n",
       "      <td>Afghanistan</td>\n",
       "      <td>2019</td>\n",
       "      <td>pm25</td>\n",
       "      <td>58.3</td>\n",
       "      <td>µg/m3</td>\n",
       "      <td>732.0</td>\n",
       "      <td>daly</td>\n",
       "      <td>rate</td>\n",
       "      <td>All causes</td>\n",
       "    </tr>\n",
       "    <tr>\n",
       "      <th>19002</th>\n",
       "      <td>Afghanistan</td>\n",
       "      <td>2020</td>\n",
       "      <td>pm25</td>\n",
       "      <td>46.1</td>\n",
       "      <td>µg/m3</td>\n",
       "      <td>561.0</td>\n",
       "      <td>daly</td>\n",
       "      <td>rate</td>\n",
       "      <td>All causes</td>\n",
       "    </tr>\n",
       "  </tbody>\n",
       "</table>\n",
       "</div>"
      ],
      "text/plain": [
       "           Country  Year Pollutant  Exposure Mean  Units  Burden Mean Measure  \\\n",
       "18972  Afghanistan  1990      pm25           64.2  µg/m3       2270.0    daly   \n",
       "18973  Afghanistan  1991      pm25           64.2  µg/m3       2140.0    daly   \n",
       "18974  Afghanistan  1992      pm25           64.2  µg/m3       1990.0    daly   \n",
       "18975  Afghanistan  1993      pm25           64.2  µg/m3       1860.0    daly   \n",
       "18976  Afghanistan  1994      pm25           64.3  µg/m3       1760.0    daly   \n",
       "18977  Afghanistan  1995      pm25           64.4  µg/m3       1670.0    daly   \n",
       "18978  Afghanistan  1996      pm25           64.5  µg/m3       1610.0    daly   \n",
       "18979  Afghanistan  1997      pm25           64.6  µg/m3       1530.0    daly   \n",
       "18980  Afghanistan  1998      pm25           64.8  µg/m3       1460.0    daly   \n",
       "18981  Afghanistan  1999      pm25           64.9  µg/m3       1400.0    daly   \n",
       "18982  Afghanistan  2000      pm25           64.8  µg/m3       1350.0    daly   \n",
       "18983  Afghanistan  2001      pm25           64.6  µg/m3       1320.0    daly   \n",
       "18984  Afghanistan  2002      pm25           64.4  µg/m3       1230.0    daly   \n",
       "18985  Afghanistan  2003      pm25           64.2  µg/m3       1190.0    daly   \n",
       "18986  Afghanistan  2004      pm25           63.8  µg/m3       1140.0    daly   \n",
       "18987  Afghanistan  2005      pm25           63.3  µg/m3       1070.0    daly   \n",
       "18988  Afghanistan  2006      pm25           61.5  µg/m3        988.0    daly   \n",
       "18989  Afghanistan  2007      pm25           58.1  µg/m3        901.0    daly   \n",
       "18990  Afghanistan  2008      pm25           54.2  µg/m3        819.0    daly   \n",
       "18991  Afghanistan  2009      pm25           51.0  µg/m3        745.0    daly   \n",
       "18992  Afghanistan  2010      pm25           49.7  µg/m3        696.0    daly   \n",
       "18993  Afghanistan  2011      pm25           61.8  µg/m3        697.0    daly   \n",
       "18994  Afghanistan  2012      pm25           70.9  µg/m3        750.0    daly   \n",
       "18995  Afghanistan  2013      pm25           73.1  µg/m3        830.0    daly   \n",
       "18996  Afghanistan  2014      pm25           77.1  µg/m3        886.0    daly   \n",
       "18997  Afghanistan  2015      pm25           73.5  µg/m3        891.0    daly   \n",
       "18998  Afghanistan  2016      pm25           72.8  µg/m3        863.0    daly   \n",
       "18999  Afghanistan  2017      pm25           65.9  µg/m3        827.0    daly   \n",
       "19000  Afghanistan  2018      pm25           67.2  µg/m3        780.0    daly   \n",
       "19001  Afghanistan  2019      pm25           58.3  µg/m3        732.0    daly   \n",
       "19002  Afghanistan  2020      pm25           46.1  µg/m3        561.0    daly   \n",
       "\n",
       "      Metric  Cause Name  \n",
       "18972   rate  All causes  \n",
       "18973   rate  All causes  \n",
       "18974   rate  All causes  \n",
       "18975   rate  All causes  \n",
       "18976   rate  All causes  \n",
       "18977   rate  All causes  \n",
       "18978   rate  All causes  \n",
       "18979   rate  All causes  \n",
       "18980   rate  All causes  \n",
       "18981   rate  All causes  \n",
       "18982   rate  All causes  \n",
       "18983   rate  All causes  \n",
       "18984   rate  All causes  \n",
       "18985   rate  All causes  \n",
       "18986   rate  All causes  \n",
       "18987   rate  All causes  \n",
       "18988   rate  All causes  \n",
       "18989   rate  All causes  \n",
       "18990   rate  All causes  \n",
       "18991   rate  All causes  \n",
       "18992   rate  All causes  \n",
       "18993   rate  All causes  \n",
       "18994   rate  All causes  \n",
       "18995   rate  All causes  \n",
       "18996   rate  All causes  \n",
       "18997   rate  All causes  \n",
       "18998   rate  All causes  \n",
       "18999   rate  All causes  \n",
       "19000   rate  All causes  \n",
       "19001   rate  All causes  \n",
       "19002   rate  All causes  "
      ]
     },
     "execution_count": 8,
     "metadata": {},
     "output_type": "execute_result"
    }
   ],
   "source": [
    "#Choosing country and pollutant type for the model training\n",
    "country_name = \"Afghanistan\"\n",
    "# country_name = \"Mexico\"\n",
    "pollutant_type = \"pm25\"\n",
    "\n",
    "country_data = AQH[(AQH['Country'] == country_name) & (AQH['Pollutant'] == pollutant_type)] \n",
    "country_data"
   ]
  },
  {
   "cell_type": "markdown",
   "metadata": {
    "cell_id": "5606ea1d25d64b60a6bf5a726d9438b4",
    "deepnote_cell_type": "text-cell-h2",
    "formattedRanges": []
   },
   "source": [
    "## 2.4. Clean Outliner"
   ]
  },
  {
   "cell_type": "code",
   "execution_count": 9,
   "metadata": {
    "cell_id": "2aa22d56a2fd4d21a7016f6d6494ac8c",
    "deepnote_cell_type": "code",
    "execution_context_id": "57886e0d-b0d7-47fe-9d10-63312e34d888",
    "execution_millis": 110,
    "execution_start": 1727598977378,
    "source_hash": "ed0e78d1"
   },
   "outputs": [
    {
     "data": {
      "image/png": "[encoded data removed]",
      "text/plain": [
       "<Figure size 640x480 with 1 Axes>"
      ]
     },
     "metadata": {},
     "output_type": "display_data"
    }
   ],
   "source": [
    "#Visualise the outlier Exposure Mean\n",
    "plt.boxplot(country_data['Exposure Mean'])\n",
    "plt.title('Boxplot of Exposure Mean')\n",
    "plt.show()"
   ]
  },
  {
   "cell_type": "code",
   "execution_count": 10,
   "metadata": {
    "cell_id": "e2a836136dcd47e9bc8409c602df7202",
    "deepnote_cell_type": "code",
    "execution_context_id": "57886e0d-b0d7-47fe-9d10-63312e34d888",
    "execution_millis": 120,
    "execution_start": 1727598977560,
    "source_hash": "165c6d55"
   },
   "outputs": [
    {
     "data": {
      "image/png": "[encoded data removed]",
      "text/plain": [
       "<Figure size 640x480 with 1 Axes>"
      ]
     },
     "metadata": {},
     "output_type": "display_data"
    }
   ],
   "source": [
    "#Visualise the outlier Burden Mean\n",
    "plt.boxplot(country_data['Burden Mean'])\n",
    "plt.title('Boxplot of Burden Mean')\n",
    "plt.show()"
   ]
  },
  {
   "cell_type": "code",
   "execution_count": null,
   "metadata": {},
   "outputs": [],
   "source": [
    "def clean_outliner(data,x, y):\n",
    "    #Clean Outliner with IQR method\n",
    "    # Calculate Q1 (25th percentile) and Q3 (75th percentile) for 'Exposure Mean'\n",
    "    Q1_x = x.quantile(0.25)\n",
    "    Q3_x = x.quantile(0.75)\n",
    "    IQR_x = Q3_x - Q1_x\n",
    "\n",
    "    # Calculate lower and upper bounds for 'Exposure Mean'\n",
    "    lower_bound_x = Q1_x - 1.5 * IQR_x\n",
    "    upper_bound_x = Q3_x + 1.5 * IQR_x\n",
    "\n",
    "    # Calculate Q1 and Q3 for 'Burden Mean'\n",
    "    Q1_y = y.quantile(0.25)\n",
    "    Q3_y = y.quantile(0.75)\n",
    "    IQR_y = Q3_y - Q1_y\n",
    "\n",
    "    # Calculate lower and upper bounds for 'Burden Mean'\n",
    "    lower_bound_y = Q1_y - 1.5 * IQR_y\n",
    "    upper_bound_y = Q3_y + 1.5 * IQR_y\n",
    "\n",
    "    # Remove outliers from both 'Exposure Mean' and 'Burden Mean'\n",
    "    return data[\n",
    "        (x >= lower_bound_x) & (x <= upper_bound_x) & \n",
    "        (y >= lower_bound_y) & (y <= upper_bound_y)\n",
    "    ]\n",
    "\n",
    "country_data_cleaned = clean_outliner(country_data, country_data['Exposure Mean'],country_data['Burden Mean'])"
   ]
  },
  {
   "cell_type": "code",
   "execution_count": 12,
   "metadata": {},
   "outputs": [],
   "source": [
    "country_data_cleaned = clean_outliner(country_data, country_data['Exposure Mean'],country_data['Burden Mean'])"
   ]
  },
  {
   "cell_type": "code",
   "execution_count": 12,
   "metadata": {
    "cell_id": "539acd763f6e420bb00fb4430a3f5844",
    "deepnote_cell_type": "code",
    "execution_context_id": "57886e0d-b0d7-47fe-9d10-63312e34d888",
    "execution_millis": 0,
    "execution_start": 1727598977749,
    "source_hash": "98a0dc89"
   },
   "outputs": [],
   "source": [
    "#Clean Outliner with IQR method\n",
    "# Calculate Q1 (25th percentile) and Q3 (75th percentile) for 'Exposure Mean'\n",
    "Q1_exposure = country_data['Exposure Mean'].quantile(0.25)\n",
    "Q3_exposure = country_data['Exposure Mean'].quantile(0.75)\n",
    "IQR_exposure = Q3_exposure - Q1_exposure\n",
    "\n",
    "# Calculate lower and upper bounds for 'Exposure Mean'\n",
    "lower_bound_exposure = Q1_exposure - 1.5 * IQR_exposure\n",
    "upper_bound_exposure = Q3_exposure + 1.5 * IQR_exposure\n",
    "\n",
    "# Calculate Q1 and Q3 for 'Burden Mean'\n",
    "Q1_burden = country_data['Burden Mean'].quantile(0.25)\n",
    "Q3_burden = country_data['Burden Mean'].quantile(0.75)\n",
    "IQR_burden = Q3_burden - Q1_burden\n",
    "\n",
    "# Calculate lower and upper bounds for 'Burden Mean'\n",
    "lower_bound_burden = Q1_burden - 1.5 * IQR_burden\n",
    "upper_bound_burden = Q3_burden + 1.5 * IQR_burden\n",
    "\n",
    "# Remove outliers from both 'Exposure Mean' and 'Burden Mean'\n",
    "country_data_cleaned = country_data[\n",
    "    (country_data['Exposure Mean'] >= lower_bound_exposure) & (country_data['Exposure Mean'] <= upper_bound_exposure) & \n",
    "    (country_data['Burden Mean'] >= lower_bound_burden) & (country_data['Burden Mean'] <= upper_bound_burden)\n",
    "]\n"
   ]
  },
  {
   "cell_type": "markdown",
   "metadata": {
    "cell_id": "49baf61431594b1e94f10ebd400849ae",
    "deepnote_cell_type": "text-cell-h2",
    "formattedRanges": []
   },
   "source": [
    "## 2.5. Normalize data"
   ]
  },
  {
   "cell_type": "code",
   "execution_count": 13,
   "metadata": {
    "cell_id": "ed0c7af65cf04ba6884c61944eb89471",
    "deepnote_cell_type": "code",
    "execution_context_id": "57886e0d-b0d7-47fe-9d10-63312e34d888",
    "execution_millis": 0,
    "execution_start": 1727598977797,
    "source_hash": "e42f4a74"
   },
   "outputs": [],
   "source": [
    "#Normalize data in a scale of min and max value from 0 to 1 scale\n",
    "def normalize_data(x,y):\n",
    "    scaler_X = MinMaxScaler()\n",
    "    scaler_y = MinMaxScaler()\n",
    "    # print(scaler_X,scaler_y)\n",
    "    X_scaled = scaler_X.fit_transform(x)  # Normalize features\n",
    "    y_scaled = scaler_y.fit_transform(y.values.reshape(-1, 1))  # Normalize target\n",
    "    return X_scaled, y_scaled, scaler_X, scaler_y"
   ]
  },
  {
   "cell_type": "code",
   "execution_count": 14,
   "metadata": {
    "cell_id": "1d73f635efbd46d5b3ca35f224cce35c",
    "deepnote_cell_type": "code",
    "execution_context_id": "57886e0d-b0d7-47fe-9d10-63312e34d888",
    "execution_millis": 0,
    "execution_start": 1727598977869,
    "source_hash": "bec10e02"
   },
   "outputs": [],
   "source": [
    "#Normalize data in a scale of min and max value from 0 to 1 scale\n",
    "x, y, scaler_X, scaler_y = normalize_data(country_data_cleaned[['Exposure Mean']],country_data_cleaned['Burden Mean'])"
   ]
  },
  {
   "cell_type": "markdown",
   "metadata": {},
   "source": [
    "## 2.5.1 Denormalize data"
   ]
  },
  {
   "cell_type": "code",
   "execution_count": 15,
   "metadata": {},
   "outputs": [],
   "source": [
    "# Denormalize a single data point to the original scale\n",
    "def denormalize_single(value, scaler):\n",
    "    # Convert to 2D array for scaler compatibility, then return the original value\n",
    "    original_value = scaler.inverse_transform(np.array([[value]]))\n",
    "    return original_value[0, 0]\n"
   ]
  },
  {
   "cell_type": "code",
   "execution_count": 16,
   "metadata": {},
   "outputs": [],
   "source": [
    "x = denormalize_single(0.4,scaler_X)\n",
    "y = denormalize_single(0.4,scaler_y)"
   ]
  },
  {
   "cell_type": "code",
   "execution_count": null,
   "metadata": {},
   "outputs": [
    {
     "name": "stdout",
     "output_type": "stream",
     "text": [
      "User input used for predicting: 0.3\n",
      "Normalised Predicted value: 0.49424833464304707\n",
      "Denormalised Predicted value: 1474.4526303935131\n"
     ]
    }
   ],
   "source": [
    "\"\"\"\n",
    "Full Function for Backend Application\n",
    "\"\"\"\n",
    "import numpy as np\n",
    "from sklearn.preprocessing import MinMaxScaler\n",
    "\n",
    "# Normalize data in a scale of min and max value from 0 to 1 scale\n",
    "def normalize_data(x, y):\n",
    "    scaler_X = MinMaxScaler()\n",
    "    scaler_y = MinMaxScaler()\n",
    "    \n",
    "    X_scaled = scaler_X.fit_transform(x)  # Normalize features\n",
    "    y_scaled = scaler_y.fit_transform(y.values.reshape(-1, 1))  # Normalize target\n",
    "    \n",
    "    return X_scaled, y_scaled, scaler_X, scaler_y\n",
    "\n",
    "# Denormalize a single data point to the original scale\n",
    "def denormalize_single_value(value, scaler):\n",
    "    original_value = scaler.inverse_transform(np.array([[value]]))\n",
    "    return original_value[0, 0]\n",
    "\n",
    "# Example normalization\n",
    "x, y, scaler_X, scaler_y = normalize_data(country_data_cleaned[['Exposure Mean']], country_data_cleaned['Burden Mean'])\n",
    "\n",
    "#Split and Suffle the data into training and test sets (80% training, 20% testing)\n",
    "x_train, x_test, y_train, y_test = train_test_split(x, y, test_size=0.2, random_state=42)\n",
    "\n",
    "#Initialize the Linear Regression model\n",
    "lr = LinearRegression()\n",
    "\n",
    "#Train the model\n",
    "lr.fit(x_train, y_train)\n",
    "\n",
    "\"\"\"\n",
    "Application:\n",
    "    - First, user send data as 'input_test'\n",
    "    - Then, using 'input_test' to predict via trained model\n",
    "    - After send to model, it return result as 'y_single', however, 'y_single' still in the normalize format\n",
    "    - So we need to denormalize it via \"denormalize_single_value()\" as 'predicted_y'\n",
    "\n",
    "\"\"\"\n",
    "input_test = 0.3\n",
    "y_single = lr.predict([[input_test]])\n",
    "\n",
    "predicted_y  = denormalize_single_value(y_single[0][0], scaler_y)\n",
    "print(f\"User input used for predicting: {input_test}\")\n",
    "print(f\"Normalised Predicted value: {y_single[0][0]}\")\n",
    "print(f\"Denormalised Predicted value: {predicted_y}\")\n",
    "\n"
   ]
  },
  {
   "cell_type": "markdown",
   "metadata": {},
   "source": [
    "## 2.6. Load Data or Save data as CSV file"
   ]
  },
  {
   "cell_type": "code",
   "execution_count": null,
   "metadata": {},
   "outputs": [
    {
     "data": {
      "text/plain": [
       "\"Noted that in our '../processed_data/regression/' will automatically save \\nprocessed_data of the country that not existing in the directory\""
      ]
     },
     "execution_count": 14,
     "metadata": {},
     "output_type": "execute_result"
    }
   ],
   "source": [
    "import os\n",
    "\n",
    "# Define the folder path and file path\n",
    "folder_path = '../datasets/regression/'\n",
    "file_path = os.path.join(folder_path, f'{country_name}.csv')\n",
    "\n",
    "# Check if the folder exists, if not, create it\n",
    "if not os.path.exists(folder_path):\n",
    "    os.makedirs(folder_path)\n",
    "    print(f\"Folder '{folder_path}' created.\")\n",
    "\n",
    "# Check if the file exists\n",
    "# if not os.path.exists(file_path):\n",
    "#     # Export the DataFrame to CSV\n",
    "#     country_data_cleaned.to_csv(file_path, index=True)\n",
    "#     print(f\"File '{file_path}' has been created.\")\n",
    "# else:\n",
    "#     print(f\"File '{file_path}' already exists.\")\n",
    "\n",
    "\"\"\"Noted that in our '../processed_data/regression/' will automatically save \n",
    "processed_data of the country that not existing in the directory\"\"\""
   ]
  },
  {
   "cell_type": "markdown",
   "metadata": {
    "cell_id": "6e171ee8aba94777a9be7dba6d06234e",
    "deepnote_cell_type": "text-cell-h2",
    "formattedRanges": []
   },
   "source": [
    "## 2.7. Data Splitting and Shuffling"
   ]
  },
  {
   "cell_type": "code",
   "execution_count": 16,
   "metadata": {
    "cell_id": "d34956ac012a42e08f2862f714f0643c",
    "deepnote_cell_type": "code",
    "execution_context_id": "57886e0d-b0d7-47fe-9d10-63312e34d888",
    "execution_millis": 0,
    "execution_start": 1727598977917,
    "source_hash": "6a55693a"
   },
   "outputs": [],
   "source": [
    "#Split and Suffle the data into training and test sets (80% training, 20% testing)\n",
    "x_train, x_test, y_train, y_test = train_test_split(x, y, test_size=0.2, random_state=42)"
   ]
  },
  {
   "cell_type": "markdown",
   "metadata": {
    "cell_id": "5f2c1219aebb47a0bf9dc5480e870f25",
    "deepnote_cell_type": "text-cell-h2",
    "formattedRanges": []
   },
   "source": [
    "## 2.8. Visualize data training"
   ]
  },
  {
   "cell_type": "code",
   "execution_count": 17,
   "metadata": {
    "cell_id": "72a5aad3d47b4140a1932c6bc1a26d97",
    "deepnote_cell_type": "code",
    "execution_context_id": "57886e0d-b0d7-47fe-9d10-63312e34d888",
    "execution_millis": 191,
    "execution_start": 1727598977973,
    "source_hash": "a2bc21ae"
   },
   "outputs": [
    {
     "name": "stderr",
     "output_type": "stream",
     "text": [
      "C:\\Users\\krazy\\AppData\\Local\\Temp\\ipykernel_43560\\3653706735.py:9: UserWarning: No artists with labels found to put in legend.  Note that artists whose label start with an underscore are ignored when legend() is called with no argument.\n",
      "  plt.legend(loc='upper right')\n"
     ]
    },
    {
     "data": {
      "image/png": "[encoded data removed]",
      "text/plain": [
       "<Figure size 400x1000 with 1 Axes>"
      ]
     },
     "metadata": {},
     "output_type": "display_data"
    }
   ],
   "source": [
    "#Visualise the scatter plot for the training data\n",
    "plt.figure(figsize=(4, 10))\n",
    "plt.scatter(x_train,y_train, color='blue')\n",
    "plt.title(f\"Air Quality to the Rate of Life Lost (DALYs) of {country_name}\", fontsize=14)\n",
    "plt.xlabel(\"PM25 (Exposure Mean)\", fontsize=12)\n",
    "plt.ylabel(\"DALYs Rate (Burden Mean)\", fontsize=12)\n",
    "\n",
    "# Adding a legend for the plot\n",
    "plt.legend(loc='upper right')\n",
    "plt.show()"
   ]
  },
  {
   "cell_type": "markdown",
   "metadata": {
    "cell_id": "9fba1b3f8b6f4020b3a2606e7b6f6115",
    "deepnote_cell_type": "text-cell-h1",
    "formattedRanges": []
   },
   "source": [
    "# 3. Model Selection, Training, and Evaluation"
   ]
  },
  {
   "cell_type": "markdown",
   "metadata": {
    "cell_id": "e5e4e4ab3f2f4e52a81ade15f25dfc6a",
    "deepnote_cell_type": "text-cell-h2",
    "formattedRanges": []
   },
   "source": [
    "## 3.1. Linear Regression"
   ]
  },
  {
   "cell_type": "code",
   "execution_count": 18,
   "metadata": {
    "cell_id": "fa99c100359c40c198c71a586c2e91f3",
    "deepnote_cell_type": "code",
    "execution_context_id": "57886e0d-b0d7-47fe-9d10-63312e34d888",
    "execution_millis": 1,
    "execution_start": 1727598978213,
    "source_hash": "1f61ebba"
   },
   "outputs": [
    {
     "name": "stdout",
     "output_type": "stream",
     "text": [
      "Mean Squared Error: 0.22\n",
      "R-squared: -0.22\n"
     ]
    }
   ],
   "source": [
    "#Initialize the Linear Regression model\n",
    "lr = LinearRegression()\n",
    "\n",
    "#Train the model\n",
    "lr.fit(x_train, y_train)\n",
    "\n",
    "#Make predictions on the test data\n",
    "y_pred = lr.predict(x_test)\n",
    "\n",
    "#Evaluate the model using Mean Squared Error and R^2 score\n",
    "mse = mean_squared_error(y_test, y_pred)\n",
    "r2 = r2_score(y_test, y_pred)\n",
    "\n",
    "# Output the evaluation metrics\n",
    "print(f\"Mean Squared Error: {mse:.2f}\")\n",
    "print(f\"R-squared: {r2:.2f}\")"
   ]
  },
  {
   "cell_type": "markdown",
   "metadata": {
    "cell_id": "e9334d016e544871851186cdd1989d2d",
    "deepnote_cell_type": "text-cell-h2",
    "formattedRanges": []
   },
   "source": [
    "## 3.2. Polynomial Regression"
   ]
  },
  {
   "cell_type": "code",
   "execution_count": 19,
   "metadata": {
    "cell_id": "f0f03fcdaf1e4e7eacc4eebb6895827b",
    "deepnote_cell_type": "code",
    "execution_context_id": "57886e0d-b0d7-47fe-9d10-63312e34d888",
    "execution_millis": 0,
    "execution_start": 1727598978269,
    "source_hash": "370c7b13"
   },
   "outputs": [],
   "source": [
    "#Transform data for Polynomial Regression\n",
    "poly = PolynomialFeatures(degree=4)\n",
    "X_train_poly = poly.fit_transform(x_train)\n",
    "X_test_poly = poly.transform(x_test)"
   ]
  },
  {
   "cell_type": "code",
   "execution_count": 20,
   "metadata": {
    "cell_id": "5f954858b2a04d81a9af1054795744c1",
    "deepnote_cell_type": "code",
    "execution_context_id": "57886e0d-b0d7-47fe-9d10-63312e34d888",
    "execution_millis": 1,
    "execution_start": 1727598978321,
    "source_hash": "ca15ce22"
   },
   "outputs": [
    {
     "name": "stdout",
     "output_type": "stream",
     "text": [
      "Mean Squared Error: 0.09\n",
      "R-squared: 0.49\n"
     ]
    }
   ],
   "source": [
    "#Initialize the Linear Regression model for transformed data\n",
    "lr_poly = LinearRegression()\n",
    "\n",
    "#Train the model\n",
    "lr_poly.fit(X_train_poly, y_train)\n",
    "\n",
    "#Make predictions on the test data\n",
    "y_pred_poly = lr_poly.predict(X_test_poly)\n",
    "\n",
    "#Evaluate the model using Mean Squared Error and R^2 score\n",
    "mse_poly = mean_squared_error(y_test, y_pred_poly)\n",
    "r2_poly = r2_score(y_test, y_pred_poly)\n",
    "\n",
    "# Output the evaluation metrics\n",
    "print(f\"Mean Squared Error: {mse_poly:.2f}\")\n",
    "print(f\"R-squared: {r2_poly:.2f}\")"
   ]
  },
  {
   "cell_type": "markdown",
   "metadata": {
    "cell_id": "db4e0bc1248841519e337476f0a2dfbe",
    "deepnote_cell_type": "text-cell-h1",
    "formattedRanges": []
   },
   "source": [
    "# 4. Visualize Regression Model Result"
   ]
  },
  {
   "cell_type": "code",
   "execution_count": 21,
   "metadata": {
    "cell_id": "c0b6baf38ef8490c9c23cb28c7640f40",
    "deepnote_cell_type": "code",
    "execution_context_id": "57886e0d-b0d7-47fe-9d10-63312e34d888",
    "execution_millis": 209,
    "execution_start": 1727598978381,
    "source_hash": "eb67c60b"
   },
   "outputs": [
    {
     "data": {
      "image/png": "[encoded data removed]",
      "text/plain": [
       "<Figure size 640x480 with 1 Axes>"
      ]
     },
     "metadata": {},
     "output_type": "display_data"
    }
   ],
   "source": [
    "# Visualizing the Results\n",
    "# Create a grid of values for Exposure Mean for smoother lines\n",
    "X_grid = np.linspace(x.min(), x.max(), 100).reshape(-1, 1)\n",
    "\n",
    "# Linear predictions for visualization\n",
    "y_pred_linear = lr.predict(X_grid)\n",
    "\n",
    "# Polynomial predictions for visualization\n",
    "X_grid_poly = poly.transform(X_grid)\n",
    "y_pred_poly = lr_poly.predict(X_grid_poly)\n",
    "\n",
    "# Plotting the original data points\n",
    "plt.scatter(x, y, color='blue', label='Data Points')\n",
    "\n",
    "# Plotting the Linear Regression line\n",
    "plt.plot(X_grid, y_pred_linear, color='red', label=f'Linear Regression (R-squared = {r2:.2f})')\n",
    "\n",
    "# Plotting the Polynomial Regression curve\n",
    "plt.plot(X_grid, y_pred_poly, color='green', label=f'Polynomial Regression (degree 4) (R-squared = {r2_poly:.2f})')\n",
    "\n",
    "# Adding titles and labels\n",
    "plt.title(f'Linear vs Polynomial Regression for {country_name}')\n",
    "plt.xlabel('Exposure Mean')\n",
    "plt.ylabel('Burden Mean')\n",
    "plt.legend()\n",
    "\n",
    "# Show the plot\n",
    "plt.show()"
   ]
  },
  {
   "cell_type": "markdown",
   "metadata": {
    "created_in_deepnote_cell": true,
    "deepnote_cell_type": "markdown"
   },
   "source": [
    "<a style='text-decoration:none;line-height:16px;display:flex;color:#5B5B62;padding:10px;justify-content:end;' href='https://deepnote.com?utm_source=created-in-deepnote-cell&projectId=84e791e6-3df4-4633-80d7-0ccea97596a2' target=\"_blank\">\n",
    "<img alt='Created in deepnote.com' style='display:inline;max-height:16px;margin:0px;margin-right:7.5px;' src='data:image/svg+xml;base64,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' > </img>\n",
    "Created in <span style='font-weight:600;margin-left:4px;'>Deepnote</span></a>"
   ]
  }
 ],
 "metadata": {
  "deepnote_execution_queue": [],
  "deepnote_notebook_id": "5e0c203e48c34141aaa48ed26eff9a98",
  "kernelspec": {
   "display_name": "Python 3",
   "language": "python",
   "name": "python3"
  },
  "language_info": {
   "codemirror_mode": {
    "name": "ipython",
    "version": 3
   },
   "file_extension": ".py",
   "mimetype": "text/x-python",
   "name": "python",
   "nbconvert_exporter": "python",
   "pygments_lexer": "ipython3",
   "version": "3.12.4"
  }
 },
 "nbformat": 4,
 "nbformat_minor": 0
}
